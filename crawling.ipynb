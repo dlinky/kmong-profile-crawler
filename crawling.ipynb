{
 "cells": [
  {
   "cell_type": "code",
   "execution_count": 14,
   "id": "1e2ac647",
   "metadata": {},
   "outputs": [],
   "source": [
    "from selenium.webdriver.common.by import By\n",
    "from selenium.webdriver.support.ui import WebDriverWait\n",
    "from selenium.webdriver.support import expected_conditions as EC\n",
    "from selenium import webdriver\n",
    "from selenium.webdriver.chrome.options import Options\n",
    "from selenium.webdriver.common.action_chains import ActionChains\n",
    "import pandas as pd\n",
    "import json\n",
    "from datetime import datetime\n",
    "import time\n",
    "import re\n",
    "from bs4 import BeautifulSoup"
   ]
  },
  {
   "cell_type": "code",
   "execution_count": 28,
   "id": "e70e48e3",
   "metadata": {},
   "outputs": [],
   "source": [
    "options = Options()\n",
    "options.add_argument('--no-sandbox')\n",
    "options.add_argument('--disable-dev-shm-usage')\n",
    "options.add_argument('--disable-blink-features=AutomationControlled')\n",
    "options.add_argument('--user-agent=Mozilla/5.0 (Macintosh; Intel Mac OS X 10_15_7) AppleWebKit/537.36')\n",
    "driver = webdriver.Chrome(options=options)\n",
    "actions = ActionChains(driver)\n",
    "driver.implicitly_wait(2)"
   ]
  },
  {
   "cell_type": "code",
   "execution_count": 29,
   "id": "95df8cfc",
   "metadata": {},
   "outputs": [],
   "source": [
    "def parse_with_soup(html):\n",
    "    try:\n",
    "        soup = BeautifulSoup(html, 'html.parser')\n",
    "        return soup\n",
    "    except Exception as e:\n",
    "        print(f\"파싱 실패: {e}\")\n",
    "        return None"
   ]
  },
  {
   "cell_type": "code",
   "execution_count": 43,
   "id": "093be7a1",
   "metadata": {},
   "outputs": [
    {
     "name": "stdout",
     "output_type": "stream",
     "text": [
      "모달창이 없습니다.\n",
      "서비스 갯수 : 373\n",
      "파싱 완료\n",
      "clicked\n",
      "파싱 완료\n"
     ]
    }
   ],
   "source": [
    "driver.get(\"https://kmong.com/category/661\")\n",
    "time.sleep(3)\n",
    "\n",
    "# 버튼 클릭 전 광고 모달 있으면 닫기\n",
    "try:\n",
    "    bz_close_button = driver.find_element(By.CLASS_NAME, \"bz-close-btn\")\n",
    "    bz_close_button.click()\n",
    "except Exception as e:\n",
    "    print(\"모달창이 없습니다.\")\n",
    "\n",
    "# 서비스 수 파싱\n",
    "WebDriverWait(driver, 10).until(EC.visibility_of_all_elements_located((By.CLASS_NAME, 'css-enj2mu')))\n",
    "service_amount = int(driver.find_element(By.CLASS_NAME, \"css-enj2mu\").text.replace(\"개의 서비스\",\"\"))\n",
    "print(f\"서비스 갯수 : {service_amount}\")\n",
    "\n",
    "# 서비스 목록 파싱\n",
    "WebDriverWait(driver, 10).until(EC.visibility_of_all_elements_located((By.CLASS_NAME, 'edqw2x10')))\n",
    "\n",
    "html = driver.page_source\n",
    "soup = parse_with_soup(html)\n",
    "\n",
    "service_list = soup.find_all(\"article\", \"edqw2x10\")\n",
    "\n",
    "for service in service_list:\n",
    "    title = service.find(\"span\", \"text-[14px] font-bold leading-[21px] text-gray-900 mb-1 line-clamp-2\").text\n",
    "    seller = service.find(\"span\", \"line-clamp-1 text-xs font-normal leading-[18px] text-gray-600\").text\n",
    "    link = service.find(\"a\").attrs['href']\n",
    "    #print(f\"title : {title}\\nseller : {seller}\\nlink : {link}\")\n",
    "print(\"파싱 완료\")\n",
    "\n",
    "try:\n",
    "    button = driver.find_element(By.XPATH, '//button[@class=\"flex h-9 items-center justify-center rounded-lg border-none bg-transparent transition-[background-color_0.3s] min-w-[36px] cursor-pointer text-gray-900 hover:bg-gray-200 focus:bg-transparent disabled:cursor-default disabled:bg-transparent disabled:text-gray-300\"]')\n",
    "    actions.move_to_element(button).pause(0.5).perform()\n",
    "    if button.is_enabled:\n",
    "        driver.execute_script(\"\"\"\n",
    "            var button = arguments[0];\n",
    "            \n",
    "            // 모든 마우스 호버 이벤트 발생\n",
    "            var events = ['mouseover', 'mouseenter', 'mousemove'];\n",
    "            events.forEach(function(eventType) {\n",
    "                var event = new MouseEvent(eventType, {\n",
    "                    bubbles: true,\n",
    "                    cancelable: true,\n",
    "                    view: window,\n",
    "                    clientX: button.getBoundingClientRect().left + button.offsetWidth/2,\n",
    "                    clientY: button.getBoundingClientRect().top + button.offsetHeight/2\n",
    "                });\n",
    "                button.dispatchEvent(event);\n",
    "            });\n",
    "        \"\"\", button)\n",
    "        actions.move_to_element(button).pause(0.5).perform()\n",
    "\n",
    "        driver.execute_script(\"\"\"\n",
    "            var button = arguments[0];\n",
    "            \n",
    "            // 클릭 이벤트 체인\n",
    "            var clickEvents = ['mousedown', 'mouseup', 'click'];\n",
    "            clickEvents.forEach(function(eventType) {\n",
    "                var event = new MouseEvent(eventType, {\n",
    "                    bubbles: true,\n",
    "                    cancelable: true,\n",
    "                    view: window,\n",
    "                    clientX: button.getBoundingClientRect().left + button.offsetWidth/2,\n",
    "                    clientY: button.getBoundingClientRect().top + button.offsetHeight/2\n",
    "                });\n",
    "                button.dispatchEvent(event);\n",
    "            });\n",
    "            \n",
    "            // 추가로 focus도 트리거\n",
    "            button.focus();\n",
    "        \"\"\", button)\n",
    "        print(\"clicked\")\n",
    "        time.sleep(0.5)\n",
    "    else:\n",
    "        print(\"done\")\n",
    "except Exception as e:\n",
    "    print(\"단일 페이지입니다.\", e)\n",
    "\n",
    "WebDriverWait(driver, 10).until(EC.visibility_of_all_elements_located((By.CLASS_NAME, 'edqw2x10')))\n",
    "html = driver.page_source\n",
    "soup = parse_with_soup(html)\n",
    "\n",
    "service_list = soup.find_all(\"article\", \"edqw2x10\")\n",
    "\n",
    "for service in service_list:\n",
    "    title = service.find(\"span\", \"text-[14px] font-bold leading-[21px] text-gray-900 mb-1 line-clamp-2\").text\n",
    "    seller = service.find(\"span\", \"line-clamp-1 text-xs font-normal leading-[18px] text-gray-600\").text\n",
    "    link = service.find(\"a\").attrs['href']\n",
    "    #print(f\"title : {title}\\nseller : {seller}\\nlink : {link}\")\n",
    "print(\"파싱 완료\")"
   ]
  },
  {
   "cell_type": "code",
   "execution_count": 49,
   "id": "c883b38a",
   "metadata": {},
   "outputs": [],
   "source": [
    "li = button.find_element(By.XPATH, \"./..\")\n",
    "driver.execute_script(\"arguments[0].click();\", li)"
   ]
  },
  {
   "cell_type": "code",
   "execution_count": 47,
   "id": "afef8989",
   "metadata": {},
   "outputs": [],
   "source": [
    "div = driver.find_element(By.CLASS_NAME, \"css-s0bzth.e1t3wbc50\")\n",
    "ul = driver.find_element(By.TAG_NAME, \"ul\")\n"
   ]
  },
  {
   "cell_type": "code",
   "execution_count": null,
   "id": "779c427d",
   "metadata": {},
   "outputs": [],
   "source": []
  },
  {
   "cell_type": "code",
   "execution_count": null,
   "id": "bbdd970c",
   "metadata": {},
   "outputs": [],
   "source": []
  }
 ],
 "metadata": {
  "kernelspec": {
   "display_name": "kmong-profile-crawler",
   "language": "python",
   "name": "python3"
  },
  "language_info": {
   "codemirror_mode": {
    "name": "ipython",
    "version": 3
   },
   "file_extension": ".py",
   "mimetype": "text/x-python",
   "name": "python",
   "nbconvert_exporter": "python",
   "pygments_lexer": "ipython3",
   "version": "3.12.11"
  }
 },
 "nbformat": 4,
 "nbformat_minor": 5
}
