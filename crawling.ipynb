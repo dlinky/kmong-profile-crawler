{
 "cells": [
  {
   "cell_type": "code",
   "execution_count": 1,
   "id": "1e2ac647",
   "metadata": {},
   "outputs": [],
   "source": [
    "from selenium.webdriver.common.by import By\n",
    "from selenium.webdriver.support.ui import WebDriverWait\n",
    "from selenium.webdriver.support import expected_conditions as EC\n",
    "from selenium import webdriver\n",
    "from selenium.webdriver.chrome.options import Options\n",
    "from selenium.webdriver.common.action_chains import ActionChains\n",
    "import pandas as pd\n",
    "import json\n",
    "from datetime import datetime\n",
    "import time\n",
    "import re\n",
    "from bs4 import BeautifulSoup"
   ]
  },
  {
   "cell_type": "code",
   "execution_count": 2,
   "id": "e70e48e3",
   "metadata": {},
   "outputs": [],
   "source": [
    "options = Options()\n",
    "options.add_argument('--no-sandbox')\n",
    "options.add_argument('--disable-dev-shm-usage')\n",
    "options.add_argument('--disable-blink-features=AutomationControlled')\n",
    "options.add_argument('--user-agent=Mozilla/5.0 (Macintosh; Intel Mac OS X 10_15_7) AppleWebKit/537.36')\n",
    "driver = webdriver.Chrome(options=options)\n",
    "actions = ActionChains(driver)\n",
    "driver.implicitly_wait(2)"
   ]
  },
  {
   "cell_type": "code",
   "execution_count": null,
   "id": "95df8cfc",
   "metadata": {},
   "outputs": [],
   "source": [
    "def parse_with_soup(html):\n",
    "    try:\n",
    "        soup = BeautifulSoup(html, 'html.parser')\n",
    "        return soup\n",
    "    except Exception as e:\n",
    "        print(f\"파싱 실패: {e}\")\n",
    "        return None\n",
    "\n",
    "def load_test_page():\n",
    "    driver.get(\"https://kmong.com/category/661\")\n",
    "    print(\"모달창 생략을 위한 테스트 페이지 로드 완료\")\n",
    "    time.sleep(1)\n",
    "\n",
    "def parse_service_amount():\n",
    "    WebDriverWait(driver, 10).until(EC.visibility_of_element_located((By.CLASS_NAME, 'css-enj2mu')))\n",
    "    service_amount = int(driver.find_element(By.CLASS_NAME, \"css-enj2mu\").text.replace(\"개의 서비스\",\"\"))\n",
    "    return service_amount\n",
    "\n",
    "def parse_service_infos(soup):\n",
    "    service_list = soup.find_all(\"article\", \"edqw2x10\")\n",
    "\n",
    "    parse_list = []\n",
    "    for service in service_list:\n",
    "        title = service.find(\"span\", \"text-[14px] font-bold leading-[21px] text-gray-900 mb-1 line-clamp-2\").text\n",
    "        seller = service.find(\"span\", \"line-clamp-1 text-xs font-normal leading-[18px] text-gray-600\").text\n",
    "        link = service.find(\"a\").attrs['href']\n",
    "        # print(title, seller, link)\n",
    "        parse_list.append([title, seller, link])\n",
    "\n",
    "    return parse_list\n",
    "\n",
    "def crawl_services(category_id):\n",
    "    load_test_page()\n",
    "    driver.get(f\"https://kmong.com/category/{category_id}\")\n",
    "\n",
    "    service_list = []\n",
    "    page_idx = 1\n",
    "    service_amount = parse_service_amount()\n",
    "\n",
    "    while True:\n",
    "        print(f\"Page {page_idx} : \", end=\"\")\n",
    "\n",
    "        # 서비스 목록 파싱\n",
    "        WebDriverWait(driver, 10).until(EC.visibility_of_all_elements_located((By.CLASS_NAME, 'edqw2x10')))\n",
    "\n",
    "        html = driver.page_source\n",
    "        soup = parse_with_soup(html)\n",
    "\n",
    "        parse_list = parse_service_infos(soup)\n",
    "        service_list.extend(parse_list)\n",
    "        print(f\"[{len(service_list)}/{service_amount}]\")\n",
    "\n",
    "        try:\n",
    "            box = driver.find_element(By.CLASS_NAME, \"e1t3wbc50\")\n",
    "            next_page_btn = box.find_elements(By.TAG_NAME, \"button\")[-1]\n",
    "            if next_page_btn.is_enabled():\n",
    "                next_page_btn.click()\n",
    "            else:\n",
    "                return service_amount, service_list\n",
    "        except Exception as e:\n",
    "            print(\"단일 페이지입니다.\")\n",
    "            return service_amount, service_list\n",
    "\n",
    "        time.sleep(2)\n",
    "        page_idx += 1"
   ]
  },
  {
   "cell_type": "code",
   "execution_count": null,
   "id": "05f32915",
   "metadata": {},
   "outputs": [],
   "source": []
  },
  {
   "cell_type": "code",
   "execution_count": null,
   "id": "093be7a1",
   "metadata": {},
   "outputs": [
    {
     "name": "stdout",
     "output_type": "stream",
     "text": [
      "모달창 생략을 위한 테스트 페이지 로드 완료\n",
      "Page 1 : [0/373]\n",
      "Page 2 : [36/373]\n",
      "Page 3 : [72/373]\n",
      "Page 4 : [108/373]\n",
      "Page 5 : [144/373]\n",
      "Page 6 : [180/373]\n",
      "Page 7 : [216/373]\n",
      "Page 8 : [252/373]\n",
      "Page 9 : [288/373]\n",
      "Page 10 : [324/373]\n",
      "Page 11 : [360/373]\n"
     ]
    }
   ],
   "source": []
  }
 ],
 "metadata": {
  "kernelspec": {
   "display_name": "kmong-profile-crawler",
   "language": "python",
   "name": "python3"
  },
  "language_info": {
   "codemirror_mode": {
    "name": "ipython",
    "version": 3
   },
   "file_extension": ".py",
   "mimetype": "text/x-python",
   "name": "python",
   "nbconvert_exporter": "python",
   "pygments_lexer": "ipython3",
   "version": "3.12.11"
  }
 },
 "nbformat": 4,
 "nbformat_minor": 5
}
